{
 "cells": [
  {
   "cell_type": "code",
   "execution_count": 78,
   "metadata": {},
   "outputs": [],
   "source": [
    "worker = [['Ivan', 'Ivanov', 100000, 1], ['Petr', 'Petrov', 150000, 2], ['Sidor', 'Sidorov', 200000, 10]]"
   ]
  },
  {
   "cell_type": "code",
   "execution_count": 56,
   "metadata": {},
   "outputs": [
    {
     "name": "stdout",
     "output_type": "stream",
     "text": [
      "['Ivan', 'Ivanov', 100000, 1]\n",
      "['Ivan', 'Ivanov', 100000, 1]\n",
      "['Ivan', 'Ivanov', 100000, 1]\n"
     ]
    }
   ],
   "source": [
    "for i in workers:\n",
    "    print(workers[0])"
   ]
  },
  {
   "cell_type": "code",
   "execution_count": 53,
   "metadata": {},
   "outputs": [
    {
     "data": {
      "text/plain": [
       "['Ivan', 'Ivanov', 100000, 1]"
      ]
     },
     "execution_count": 53,
     "metadata": {},
     "output_type": "execute_result"
    }
   ],
   "source": [
    "workers[0]"
   ]
  },
  {
   "cell_type": "code",
   "execution_count": 57,
   "metadata": {},
   "outputs": [
    {
     "name": "stdout",
     "output_type": "stream",
     "text": [
      "Sidor Sidorov is senior\n"
     ]
    }
   ],
   "source": [
    "if workers[2][3] < 2:\n",
    "    print(workers[2][0], workers[2][1], \"is\",\"junior\")\n",
    "elif workers[2][3] >= 2 and workers[2][3] <= 5:\n",
    "    print(workers[2][0], workers[2][1], \"is\",\"middle\")\n",
    "if workers[2][3] > 5:\n",
    "    print(workers[2][0], workers[2][1], \"is\",\"senior\")"
   ]
  },
  {
   "cell_type": "code",
   "execution_count": 84,
   "metadata": {},
   "outputs": [
    {
     "name": "stdout",
     "output_type": "stream",
     "text": [
      "Ivan Ivanov is junior\n",
      "Petr Petrov is middle\n",
      "Sidor Sidorov is senior\n"
     ]
    }
   ],
   "source": [
    "for i in worker:\n",
    "    user_name = i[0]\n",
    "    surname = i[1]\n",
    "    status = \"\"\n",
    "    status += user_name\n",
    "    status += \" \"\n",
    "    status += surname\n",
    "    status += \" is\"\n",
    "    grade = \"\"\n",
    "    if i[3] < 2:\n",
    "        #grade  += \"junior\"\n",
    "        status += \" junior\"\n",
    "    elif i[3] >= 2 and i[3] <= 5:\n",
    "        #grade += \"middle\"\n",
    "        status += \" middle\"\n",
    "    elif i[3] > 5:\n",
    "        #grade += \"senior\"\n",
    "        status += \" senior\"\n",
    "    #print(user_name,surname,\"is\",grade)\n",
    "    print(status)"
   ]
  },
  {
   "cell_type": "code",
   "execution_count": null,
   "metadata": {},
   "outputs": [],
   "source": []
  }
 ],
 "metadata": {
  "kernelspec": {
   "display_name": "Python 3",
   "language": "python",
   "name": "python3"
  },
  "language_info": {
   "codemirror_mode": {
    "name": "ipython",
    "version": 3
   },
   "file_extension": ".py",
   "mimetype": "text/x-python",
   "name": "python",
   "nbconvert_exporter": "python",
   "pygments_lexer": "ipython3",
   "version": "3.7.3"
  }
 },
 "nbformat": 4,
 "nbformat_minor": 4
}
