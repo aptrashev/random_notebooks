{
 "cells": [
  {
   "cell_type": "code",
   "execution_count": 2,
   "metadata": {},
   "outputs": [],
   "source": [
    "import pandas as pd\n",
    "import numpy as np\n",
    "import seaborn as sns\n",
    "from scipy.stats import mannwhitneyu\n",
    "from scipy.stats import ttest_ind\n",
    "from scipy.stats import f_oneway\n",
    "\n",
    "%matplotlib inline"
   ]
  },
  {
   "cell_type": "code",
   "execution_count": 3,
   "metadata": {},
   "outputs": [],
   "source": [
    "ads_data = pd.read_csv('ads_data.csv')"
   ]
  },
  {
   "cell_type": "code",
   "execution_count": 4,
   "metadata": {},
   "outputs": [
    {
     "data": {
      "text/html": [
       "<div>\n",
       "<style scoped>\n",
       "    .dataframe tbody tr th:only-of-type {\n",
       "        vertical-align: middle;\n",
       "    }\n",
       "\n",
       "    .dataframe tbody tr th {\n",
       "        vertical-align: top;\n",
       "    }\n",
       "\n",
       "    .dataframe thead th {\n",
       "        text-align: right;\n",
       "    }\n",
       "</style>\n",
       "<table border=\"1\" class=\"dataframe\">\n",
       "  <thead>\n",
       "    <tr style=\"text-align: right;\">\n",
       "      <th></th>\n",
       "      <th>ad_id</th>\n",
       "      <th>time</th>\n",
       "      <th>event</th>\n",
       "      <th>date</th>\n",
       "      <th>ad_cost_type</th>\n",
       "      <th>has_video</th>\n",
       "      <th>client_union_id</th>\n",
       "      <th>campaign_union_id</th>\n",
       "      <th>platform</th>\n",
       "      <th>ad_cost</th>\n",
       "      <th>target_audience_count</th>\n",
       "      <th>user_id</th>\n",
       "    </tr>\n",
       "  </thead>\n",
       "  <tbody>\n",
       "    <tr>\n",
       "      <th>0</th>\n",
       "      <td>23456</td>\n",
       "      <td>1554076848</td>\n",
       "      <td>view</td>\n",
       "      <td>2019-04-01</td>\n",
       "      <td>CPM</td>\n",
       "      <td>0</td>\n",
       "      <td>5681</td>\n",
       "      <td>23456</td>\n",
       "      <td>android</td>\n",
       "      <td>190.0</td>\n",
       "      <td>125560</td>\n",
       "      <td>793</td>\n",
       "    </tr>\n",
       "    <tr>\n",
       "      <th>1</th>\n",
       "      <td>111941</td>\n",
       "      <td>1554135866</td>\n",
       "      <td>view</td>\n",
       "      <td>2019-04-01</td>\n",
       "      <td>CPM</td>\n",
       "      <td>0</td>\n",
       "      <td>111793</td>\n",
       "      <td>111941</td>\n",
       "      <td>ios</td>\n",
       "      <td>215.2</td>\n",
       "      <td>32277</td>\n",
       "      <td>1041</td>\n",
       "    </tr>\n",
       "    <tr>\n",
       "      <th>2</th>\n",
       "      <td>111941</td>\n",
       "      <td>1554135866</td>\n",
       "      <td>view</td>\n",
       "      <td>2019-04-01</td>\n",
       "      <td>CPM</td>\n",
       "      <td>0</td>\n",
       "      <td>111793</td>\n",
       "      <td>111941</td>\n",
       "      <td>ios</td>\n",
       "      <td>215.2</td>\n",
       "      <td>32277</td>\n",
       "      <td>41</td>\n",
       "    </tr>\n",
       "    <tr>\n",
       "      <th>3</th>\n",
       "      <td>42987</td>\n",
       "      <td>1554135866</td>\n",
       "      <td>view</td>\n",
       "      <td>2019-04-01</td>\n",
       "      <td>CPM</td>\n",
       "      <td>0</td>\n",
       "      <td>28541</td>\n",
       "      <td>42985</td>\n",
       "      <td>ios</td>\n",
       "      <td>199.1</td>\n",
       "      <td>80160</td>\n",
       "      <td>898</td>\n",
       "    </tr>\n",
       "    <tr>\n",
       "      <th>4</th>\n",
       "      <td>23456</td>\n",
       "      <td>1554135866</td>\n",
       "      <td>view</td>\n",
       "      <td>2019-04-01</td>\n",
       "      <td>CPM</td>\n",
       "      <td>0</td>\n",
       "      <td>5681</td>\n",
       "      <td>23456</td>\n",
       "      <td>web</td>\n",
       "      <td>190.0</td>\n",
       "      <td>125560</td>\n",
       "      <td>29</td>\n",
       "    </tr>\n",
       "  </tbody>\n",
       "</table>\n",
       "</div>"
      ],
      "text/plain": [
       "    ad_id        time event        date ad_cost_type  has_video  \\\n",
       "0   23456  1554076848  view  2019-04-01          CPM          0   \n",
       "1  111941  1554135866  view  2019-04-01          CPM          0   \n",
       "2  111941  1554135866  view  2019-04-01          CPM          0   \n",
       "3   42987  1554135866  view  2019-04-01          CPM          0   \n",
       "4   23456  1554135866  view  2019-04-01          CPM          0   \n",
       "\n",
       "   client_union_id  campaign_union_id platform  ad_cost  \\\n",
       "0             5681              23456  android    190.0   \n",
       "1           111793             111941      ios    215.2   \n",
       "2           111793             111941      ios    215.2   \n",
       "3            28541              42985      ios    199.1   \n",
       "4             5681              23456      web    190.0   \n",
       "\n",
       "   target_audience_count  user_id  \n",
       "0                 125560      793  \n",
       "1                  32277     1041  \n",
       "2                  32277       41  \n",
       "3                  80160      898  \n",
       "4                 125560       29  "
      ]
     },
     "execution_count": 4,
     "metadata": {},
     "output_type": "execute_result"
    }
   ],
   "source": [
    "ads_data.head()"
   ]
  },
  {
   "cell_type": "code",
   "execution_count": 20,
   "metadata": {},
   "outputs": [],
   "source": [
    "df = ads_data.groupby(['ad_id','ad_cost_type','platform','event'],as_index=False).agg({'user_id':'count'})"
   ]
  },
  {
   "cell_type": "code",
   "execution_count": 21,
   "metadata": {},
   "outputs": [
    {
     "data": {
      "text/html": [
       "<div>\n",
       "<style scoped>\n",
       "    .dataframe tbody tr th:only-of-type {\n",
       "        vertical-align: middle;\n",
       "    }\n",
       "\n",
       "    .dataframe tbody tr th {\n",
       "        vertical-align: top;\n",
       "    }\n",
       "\n",
       "    .dataframe thead th {\n",
       "        text-align: right;\n",
       "    }\n",
       "</style>\n",
       "<table border=\"1\" class=\"dataframe\">\n",
       "  <thead>\n",
       "    <tr style=\"text-align: right;\">\n",
       "      <th></th>\n",
       "      <th>ad_id</th>\n",
       "      <th>ad_cost_type</th>\n",
       "      <th>platform</th>\n",
       "      <th>event</th>\n",
       "      <th>user_id</th>\n",
       "    </tr>\n",
       "  </thead>\n",
       "  <tbody>\n",
       "    <tr>\n",
       "      <th>0</th>\n",
       "      <td>3</td>\n",
       "      <td>CPC</td>\n",
       "      <td>android</td>\n",
       "      <td>click</td>\n",
       "      <td>5</td>\n",
       "    </tr>\n",
       "    <tr>\n",
       "      <th>1</th>\n",
       "      <td>3</td>\n",
       "      <td>CPC</td>\n",
       "      <td>android</td>\n",
       "      <td>view</td>\n",
       "      <td>244</td>\n",
       "    </tr>\n",
       "    <tr>\n",
       "      <th>2</th>\n",
       "      <td>3</td>\n",
       "      <td>CPC</td>\n",
       "      <td>ios</td>\n",
       "      <td>click</td>\n",
       "      <td>3</td>\n",
       "    </tr>\n",
       "    <tr>\n",
       "      <th>3</th>\n",
       "      <td>3</td>\n",
       "      <td>CPC</td>\n",
       "      <td>ios</td>\n",
       "      <td>view</td>\n",
       "      <td>147</td>\n",
       "    </tr>\n",
       "    <tr>\n",
       "      <th>4</th>\n",
       "      <td>3</td>\n",
       "      <td>CPC</td>\n",
       "      <td>web</td>\n",
       "      <td>click</td>\n",
       "      <td>1</td>\n",
       "    </tr>\n",
       "  </tbody>\n",
       "</table>\n",
       "</div>"
      ],
      "text/plain": [
       "   ad_id ad_cost_type platform  event  user_id\n",
       "0      3          CPC  android  click        5\n",
       "1      3          CPC  android   view      244\n",
       "2      3          CPC      ios  click        3\n",
       "3      3          CPC      ios   view      147\n",
       "4      3          CPC      web  click        1"
      ]
     },
     "execution_count": 21,
     "metadata": {},
     "output_type": "execute_result"
    }
   ],
   "source": [
    "df.head()"
   ]
  },
  {
   "cell_type": "code",
   "execution_count": 22,
   "metadata": {},
   "outputs": [],
   "source": [
    "df = df.pivot(index=['ad_id','ad_cost_type','platform'], columns='event',values='user_id').reset_index()"
   ]
  },
  {
   "cell_type": "code",
   "execution_count": 23,
   "metadata": {},
   "outputs": [
    {
     "data": {
      "text/html": [
       "<div>\n",
       "<style scoped>\n",
       "    .dataframe tbody tr th:only-of-type {\n",
       "        vertical-align: middle;\n",
       "    }\n",
       "\n",
       "    .dataframe tbody tr th {\n",
       "        vertical-align: top;\n",
       "    }\n",
       "\n",
       "    .dataframe thead th {\n",
       "        text-align: right;\n",
       "    }\n",
       "</style>\n",
       "<table border=\"1\" class=\"dataframe\">\n",
       "  <thead>\n",
       "    <tr style=\"text-align: right;\">\n",
       "      <th>event</th>\n",
       "      <th>ad_id</th>\n",
       "      <th>ad_cost_type</th>\n",
       "      <th>platform</th>\n",
       "      <th>click</th>\n",
       "      <th>view</th>\n",
       "    </tr>\n",
       "  </thead>\n",
       "  <tbody>\n",
       "    <tr>\n",
       "      <th>0</th>\n",
       "      <td>3</td>\n",
       "      <td>CPC</td>\n",
       "      <td>android</td>\n",
       "      <td>5.0</td>\n",
       "      <td>244.0</td>\n",
       "    </tr>\n",
       "    <tr>\n",
       "      <th>1</th>\n",
       "      <td>3</td>\n",
       "      <td>CPC</td>\n",
       "      <td>ios</td>\n",
       "      <td>3.0</td>\n",
       "      <td>147.0</td>\n",
       "    </tr>\n",
       "    <tr>\n",
       "      <th>2</th>\n",
       "      <td>3</td>\n",
       "      <td>CPC</td>\n",
       "      <td>web</td>\n",
       "      <td>1.0</td>\n",
       "      <td>99.0</td>\n",
       "    </tr>\n",
       "    <tr>\n",
       "      <th>3</th>\n",
       "      <td>2132</td>\n",
       "      <td>CPC</td>\n",
       "      <td>android</td>\n",
       "      <td>1.0</td>\n",
       "      <td>55.0</td>\n",
       "    </tr>\n",
       "    <tr>\n",
       "      <th>4</th>\n",
       "      <td>2132</td>\n",
       "      <td>CPC</td>\n",
       "      <td>ios</td>\n",
       "      <td>NaN</td>\n",
       "      <td>26.0</td>\n",
       "    </tr>\n",
       "  </tbody>\n",
       "</table>\n",
       "</div>"
      ],
      "text/plain": [
       "event  ad_id ad_cost_type platform  click   view\n",
       "0          3          CPC  android    5.0  244.0\n",
       "1          3          CPC      ios    3.0  147.0\n",
       "2          3          CPC      web    1.0   99.0\n",
       "3       2132          CPC  android    1.0   55.0\n",
       "4       2132          CPC      ios    NaN   26.0"
      ]
     },
     "execution_count": 23,
     "metadata": {},
     "output_type": "execute_result"
    }
   ],
   "source": [
    "df.head()"
   ]
  },
  {
   "cell_type": "code",
   "execution_count": 24,
   "metadata": {},
   "outputs": [],
   "source": [
    "cost_type_df = df.groupby(['ad_id','ad_cost_type'],as_index=False).agg({'click':'sum','view':'sum'})"
   ]
  },
  {
   "cell_type": "code",
   "execution_count": 25,
   "metadata": {},
   "outputs": [],
   "source": [
    "cost_type_df = cost_type_df.query('view > 100 & click > 0 ')"
   ]
  },
  {
   "cell_type": "code",
   "execution_count": null,
   "metadata": {},
   "outputs": [],
   "source": []
  },
  {
   "cell_type": "code",
   "execution_count": 26,
   "metadata": {},
   "outputs": [
    {
     "data": {
      "text/html": [
       "<div>\n",
       "<style scoped>\n",
       "    .dataframe tbody tr th:only-of-type {\n",
       "        vertical-align: middle;\n",
       "    }\n",
       "\n",
       "    .dataframe tbody tr th {\n",
       "        vertical-align: top;\n",
       "    }\n",
       "\n",
       "    .dataframe thead th {\n",
       "        text-align: right;\n",
       "    }\n",
       "</style>\n",
       "<table border=\"1\" class=\"dataframe\">\n",
       "  <thead>\n",
       "    <tr style=\"text-align: right;\">\n",
       "      <th></th>\n",
       "      <th>ad_id</th>\n",
       "      <th>ad_cost_type</th>\n",
       "      <th>click</th>\n",
       "      <th>view</th>\n",
       "    </tr>\n",
       "  </thead>\n",
       "  <tbody>\n",
       "    <tr>\n",
       "      <th>0</th>\n",
       "      <td>3</td>\n",
       "      <td>CPC</td>\n",
       "      <td>9.0</td>\n",
       "      <td>490.0</td>\n",
       "    </tr>\n",
       "    <tr>\n",
       "      <th>2</th>\n",
       "      <td>2276</td>\n",
       "      <td>CPC</td>\n",
       "      <td>2.0</td>\n",
       "      <td>1454.0</td>\n",
       "    </tr>\n",
       "    <tr>\n",
       "      <th>4</th>\n",
       "      <td>2643</td>\n",
       "      <td>CPM</td>\n",
       "      <td>3.0</td>\n",
       "      <td>286.0</td>\n",
       "    </tr>\n",
       "    <tr>\n",
       "      <th>5</th>\n",
       "      <td>4585</td>\n",
       "      <td>CPC</td>\n",
       "      <td>53.0</td>\n",
       "      <td>476.0</td>\n",
       "    </tr>\n",
       "    <tr>\n",
       "      <th>6</th>\n",
       "      <td>4877</td>\n",
       "      <td>CPC</td>\n",
       "      <td>5.0</td>\n",
       "      <td>2160.0</td>\n",
       "    </tr>\n",
       "  </tbody>\n",
       "</table>\n",
       "</div>"
      ],
      "text/plain": [
       "   ad_id ad_cost_type  click    view\n",
       "0      3          CPC    9.0   490.0\n",
       "2   2276          CPC    2.0  1454.0\n",
       "4   2643          CPM    3.0   286.0\n",
       "5   4585          CPC   53.0   476.0\n",
       "6   4877          CPC    5.0  2160.0"
      ]
     },
     "execution_count": 26,
     "metadata": {},
     "output_type": "execute_result"
    }
   ],
   "source": [
    "cost_type_df.head()"
   ]
  },
  {
   "cell_type": "code",
   "execution_count": 27,
   "metadata": {},
   "outputs": [],
   "source": [
    "cost_type_df['ctr'] = cost_type_df.click / cost_type_df.view"
   ]
  },
  {
   "cell_type": "code",
   "execution_count": 33,
   "metadata": {},
   "outputs": [],
   "source": [
    "cost_type_df['ctr_log'] = np.log(cost_type_df.ctr)"
   ]
  },
  {
   "cell_type": "code",
   "execution_count": 28,
   "metadata": {},
   "outputs": [
    {
     "data": {
      "text/html": [
       "<div>\n",
       "<style scoped>\n",
       "    .dataframe tbody tr th:only-of-type {\n",
       "        vertical-align: middle;\n",
       "    }\n",
       "\n",
       "    .dataframe tbody tr th {\n",
       "        vertical-align: top;\n",
       "    }\n",
       "\n",
       "    .dataframe thead th {\n",
       "        text-align: right;\n",
       "    }\n",
       "</style>\n",
       "<table border=\"1\" class=\"dataframe\">\n",
       "  <thead>\n",
       "    <tr style=\"text-align: right;\">\n",
       "      <th></th>\n",
       "      <th>ad_id</th>\n",
       "      <th>ad_cost_type</th>\n",
       "      <th>click</th>\n",
       "      <th>view</th>\n",
       "      <th>ctr</th>\n",
       "    </tr>\n",
       "  </thead>\n",
       "  <tbody>\n",
       "    <tr>\n",
       "      <th>0</th>\n",
       "      <td>3</td>\n",
       "      <td>CPC</td>\n",
       "      <td>9.0</td>\n",
       "      <td>490.0</td>\n",
       "      <td>0.018367</td>\n",
       "    </tr>\n",
       "    <tr>\n",
       "      <th>2</th>\n",
       "      <td>2276</td>\n",
       "      <td>CPC</td>\n",
       "      <td>2.0</td>\n",
       "      <td>1454.0</td>\n",
       "      <td>0.001376</td>\n",
       "    </tr>\n",
       "    <tr>\n",
       "      <th>4</th>\n",
       "      <td>2643</td>\n",
       "      <td>CPM</td>\n",
       "      <td>3.0</td>\n",
       "      <td>286.0</td>\n",
       "      <td>0.010490</td>\n",
       "    </tr>\n",
       "    <tr>\n",
       "      <th>5</th>\n",
       "      <td>4585</td>\n",
       "      <td>CPC</td>\n",
       "      <td>53.0</td>\n",
       "      <td>476.0</td>\n",
       "      <td>0.111345</td>\n",
       "    </tr>\n",
       "    <tr>\n",
       "      <th>6</th>\n",
       "      <td>4877</td>\n",
       "      <td>CPC</td>\n",
       "      <td>5.0</td>\n",
       "      <td>2160.0</td>\n",
       "      <td>0.002315</td>\n",
       "    </tr>\n",
       "  </tbody>\n",
       "</table>\n",
       "</div>"
      ],
      "text/plain": [
       "   ad_id ad_cost_type  click    view       ctr\n",
       "0      3          CPC    9.0   490.0  0.018367\n",
       "2   2276          CPC    2.0  1454.0  0.001376\n",
       "4   2643          CPM    3.0   286.0  0.010490\n",
       "5   4585          CPC   53.0   476.0  0.111345\n",
       "6   4877          CPC    5.0  2160.0  0.002315"
      ]
     },
     "execution_count": 28,
     "metadata": {},
     "output_type": "execute_result"
    }
   ],
   "source": [
    "cost_type_df.head()"
   ]
  },
  {
   "cell_type": "code",
   "execution_count": 29,
   "metadata": {},
   "outputs": [
    {
     "data": {
      "text/plain": [
       "<matplotlib.axes._subplots.AxesSubplot at 0x7ff1fd000518>"
      ]
     },
     "execution_count": 29,
     "metadata": {},
     "output_type": "execute_result"
    },
    {
     "data": {
      "image/png": "[encoded data removed]",
      "text/plain": [
       "<Figure size 432x288 with 1 Axes>"
      ]
     },
     "metadata": {
      "needs_background": "light"
     },
     "output_type": "display_data"
    }
   ],
   "source": [
    "sns.boxplot(x='ad_cost_type',y='ctr',data=cost_type_df)"
   ]
  },
  {
   "cell_type": "code",
   "execution_count": 30,
   "metadata": {},
   "outputs": [
    {
     "data": {
      "text/html": [
       "<div>\n",
       "<style scoped>\n",
       "    .dataframe tbody tr th:only-of-type {\n",
       "        vertical-align: middle;\n",
       "    }\n",
       "\n",
       "    .dataframe tbody tr th {\n",
       "        vertical-align: top;\n",
       "    }\n",
       "\n",
       "    .dataframe thead th {\n",
       "        text-align: right;\n",
       "    }\n",
       "</style>\n",
       "<table border=\"1\" class=\"dataframe\">\n",
       "  <thead>\n",
       "    <tr style=\"text-align: right;\">\n",
       "      <th></th>\n",
       "      <th>ctr</th>\n",
       "    </tr>\n",
       "    <tr>\n",
       "      <th>ad_cost_type</th>\n",
       "      <th></th>\n",
       "    </tr>\n",
       "  </thead>\n",
       "  <tbody>\n",
       "    <tr>\n",
       "      <th>CPC</th>\n",
       "      <td>0.012019</td>\n",
       "    </tr>\n",
       "    <tr>\n",
       "      <th>CPM</th>\n",
       "      <td>0.010490</td>\n",
       "    </tr>\n",
       "  </tbody>\n",
       "</table>\n",
       "</div>"
      ],
      "text/plain": [
       "                   ctr\n",
       "ad_cost_type          \n",
       "CPC           0.012019\n",
       "CPM           0.010490"
      ]
     },
     "execution_count": 30,
     "metadata": {},
     "output_type": "execute_result"
    }
   ],
   "source": [
    "cost_type_df.groupby('ad_cost_type').agg({'ctr' : 'median'})"
   ]
  },
  {
   "cell_type": "code",
   "execution_count": 31,
   "metadata": {},
   "outputs": [
    {
     "name": "stderr",
     "output_type": "stream",
     "text": [
      "/opt/tljh/user/lib/python3.7/site-packages/seaborn/distributions.py:2557: FutureWarning: `distplot` is a deprecated function and will be removed in a future version. Please adapt your code to use either `displot` (a figure-level function with similar flexibility) or `histplot` (an axes-level function for histograms).\n",
      "  warnings.warn(msg, FutureWarning)\n"
     ]
    },
    {
     "data": {
      "text/plain": [
       "<matplotlib.axes._subplots.AxesSubplot at 0x7ff1fcf30588>"
      ]
     },
     "execution_count": 31,
     "metadata": {},
     "output_type": "execute_result"
    },
    {
     "data": {
      "image/png": "[encoded data removed]",
      "text/plain": [
       "<Figure size 432x288 with 1 Axes>"
      ]
     },
     "metadata": {
      "needs_background": "light"
     },
     "output_type": "display_data"
    }
   ],
   "source": [
    "sns.distplot(np.log(cost_type_df.ctr))"
   ]
  },
  {
   "cell_type": "code",
   "execution_count": 32,
   "metadata": {},
   "outputs": [
    {
     "name": "stderr",
     "output_type": "stream",
     "text": [
      "/opt/tljh/user/lib/python3.7/site-packages/seaborn/distributions.py:2557: FutureWarning: `distplot` is a deprecated function and will be removed in a future version. Please adapt your code to use either `displot` (a figure-level function with similar flexibility) or `histplot` (an axes-level function for histograms).\n",
      "  warnings.warn(msg, FutureWarning)\n"
     ]
    },
    {
     "data": {
      "text/plain": [
       "<matplotlib.axes._subplots.AxesSubplot at 0x7ff1faed62e8>"
      ]
     },
     "execution_count": 32,
     "metadata": {},
     "output_type": "execute_result"
    },
    {
     "data": {
      "image/png": "[encoded data removed]",
      "text/plain": [
       "<Figure size 432x288 with 1 Axes>"
      ]
     },
     "metadata": {
      "needs_background": "light"
     },
     "output_type": "display_data"
    }
   ],
   "source": [
    " sns.distplot(cost_type_df.ctr)"
   ]
  },
  {
   "cell_type": "code",
   "execution_count": 35,
   "metadata": {},
   "outputs": [
    {
     "data": {
      "text/plain": [
       "0     -3.997181\n",
       "2     -6.588926\n",
       "5     -2.195126\n",
       "6     -6.068426\n",
       "7     -3.704823\n",
       "11    -5.831882\n",
       "13    -4.018549\n",
       "14    -4.766438\n",
       "15    -2.523226\n",
       "17    -4.884694\n",
       "19    -6.898715\n",
       "20    -4.655863\n",
       "21    -4.139159\n",
       "25    -3.061386\n",
       "31    -3.212187\n",
       "32    -3.459466\n",
       "34    -3.356746\n",
       "37    -6.362597\n",
       "52    -4.897840\n",
       "54    -4.826712\n",
       "82    -4.801285\n",
       "106   -4.525405\n",
       "117   -5.284218\n",
       "120   -4.695011\n",
       "125   -1.787876\n",
       "151   -4.882802\n",
       "155   -3.107436\n",
       "228   -3.791737\n",
       "245   -4.586242\n",
       "254   -4.686952\n",
       "255   -4.881286\n",
       "256   -3.309630\n",
       "258   -3.222790\n",
       "259   -3.530553\n",
       "266   -5.755215\n",
       "270   -3.367296\n",
       "279   -3.672496\n",
       "284   -2.981276\n",
       "295   -2.484907\n",
       "300   -4.337291\n",
       "301   -4.424847\n",
       "304   -4.789573\n",
       "306   -4.382027\n",
       "321   -3.719651\n",
       "322   -5.499215\n",
       "332   -4.465908\n",
       "333   -3.258097\n",
       "334   -4.409763\n",
       "335   -7.006695\n",
       "336   -4.421247\n",
       "337   -6.312944\n",
       "340   -7.013016\n",
       "348   -2.768245\n",
       "351   -4.743191\n",
       "354   -3.688379\n",
       "Name: ctr_log, dtype: float64"
      ]
     },
     "execution_count": 35,
     "metadata": {},
     "output_type": "execute_result"
    }
   ],
   "source": [
    "cost_type_df[cost_type_df.ad_cost_type == 'CPC'].ctr_log"
   ]
  },
  {
   "cell_type": "code",
   "execution_count": 36,
   "metadata": {},
   "outputs": [
    {
     "data": {
      "text/plain": [
       "4     -4.557380\n",
       "8     -3.751854\n",
       "9     -4.143135\n",
       "10    -3.392269\n",
       "12    -4.727388\n",
       "         ...   \n",
       "346   -3.533687\n",
       "349   -4.424847\n",
       "350   -6.461468\n",
       "352   -5.043425\n",
       "353   -5.560682\n",
       "Name: ctr_log, Length: 247, dtype: float64"
      ]
     },
     "execution_count": 36,
     "metadata": {},
     "output_type": "execute_result"
    }
   ],
   "source": [
    "cost_type_df[cost_type_df.ad_cost_type == 'CPM'].ctr_log"
   ]
  },
  {
   "cell_type": "code",
   "execution_count": 37,
   "metadata": {},
   "outputs": [
    {
     "data": {
      "text/plain": [
       "Ttest_indResult(statistic=1.1407296867039143, pvalue=0.25489224816951805)"
      ]
     },
     "execution_count": 37,
     "metadata": {},
     "output_type": "execute_result"
    }
   ],
   "source": [
    "ttest_ind(cost_type_df[cost_type_df.ad_cost_type == 'CPC'].ctr_log,cost_type_df[cost_type_df.ad_cost_type == 'CPM'].ctr_log)"
   ]
  },
  {
   "cell_type": "code",
   "execution_count": null,
   "metadata": {},
   "outputs": [],
   "source": [
    "#===================================================================================="
   ]
  },
  {
   "cell_type": "code",
   "execution_count": 48,
   "metadata": {},
   "outputs": [],
   "source": [
    "platform_df = df.groupby(['ad_id','platform'],as_index=False).agg({'click':'sum','view':'sum'}).fillna(0)"
   ]
  },
  {
   "cell_type": "code",
   "execution_count": 49,
   "metadata": {},
   "outputs": [],
   "source": [
    "platform_df = platform_df.query('view > 100 & click > 0 ')"
   ]
  },
  {
   "cell_type": "code",
   "execution_count": 50,
   "metadata": {},
   "outputs": [],
   "source": [
    "platform_df['ctr'] = platform_df.click / platform_df.view"
   ]
  },
  {
   "cell_type": "code",
   "execution_count": 51,
   "metadata": {},
   "outputs": [],
   "source": [
    "platform_df['ctr_log'] = np.log(platform_df.ctr)"
   ]
  },
  {
   "cell_type": "code",
   "execution_count": 52,
   "metadata": {},
   "outputs": [
    {
     "data": {
      "text/html": [
       "<div>\n",
       "<style scoped>\n",
       "    .dataframe tbody tr th:only-of-type {\n",
       "        vertical-align: middle;\n",
       "    }\n",
       "\n",
       "    .dataframe tbody tr th {\n",
       "        vertical-align: top;\n",
       "    }\n",
       "\n",
       "    .dataframe thead th {\n",
       "        text-align: right;\n",
       "    }\n",
       "</style>\n",
       "<table border=\"1\" class=\"dataframe\">\n",
       "  <thead>\n",
       "    <tr style=\"text-align: right;\">\n",
       "      <th></th>\n",
       "      <th>ad_id</th>\n",
       "      <th>platform</th>\n",
       "      <th>click</th>\n",
       "      <th>view</th>\n",
       "      <th>ctr</th>\n",
       "      <th>ctr_log</th>\n",
       "    </tr>\n",
       "  </thead>\n",
       "  <tbody>\n",
       "    <tr>\n",
       "      <th>0</th>\n",
       "      <td>3</td>\n",
       "      <td>android</td>\n",
       "      <td>5.0</td>\n",
       "      <td>244.0</td>\n",
       "      <td>0.020492</td>\n",
       "      <td>-3.887730</td>\n",
       "    </tr>\n",
       "    <tr>\n",
       "      <th>1</th>\n",
       "      <td>3</td>\n",
       "      <td>ios</td>\n",
       "      <td>3.0</td>\n",
       "      <td>147.0</td>\n",
       "      <td>0.020408</td>\n",
       "      <td>-3.891820</td>\n",
       "    </tr>\n",
       "    <tr>\n",
       "      <th>6</th>\n",
       "      <td>2276</td>\n",
       "      <td>android</td>\n",
       "      <td>2.0</td>\n",
       "      <td>703.0</td>\n",
       "      <td>0.002845</td>\n",
       "      <td>-5.862210</td>\n",
       "    </tr>\n",
       "    <tr>\n",
       "      <th>15</th>\n",
       "      <td>4585</td>\n",
       "      <td>android</td>\n",
       "      <td>17.0</td>\n",
       "      <td>224.0</td>\n",
       "      <td>0.075893</td>\n",
       "      <td>-2.578433</td>\n",
       "    </tr>\n",
       "    <tr>\n",
       "      <th>16</th>\n",
       "      <td>4585</td>\n",
       "      <td>ios</td>\n",
       "      <td>24.0</td>\n",
       "      <td>148.0</td>\n",
       "      <td>0.162162</td>\n",
       "      <td>-1.819158</td>\n",
       "    </tr>\n",
       "  </tbody>\n",
       "</table>\n",
       "</div>"
      ],
      "text/plain": [
       "    ad_id platform  click   view       ctr   ctr_log\n",
       "0       3  android    5.0  244.0  0.020492 -3.887730\n",
       "1       3      ios    3.0  147.0  0.020408 -3.891820\n",
       "6    2276  android    2.0  703.0  0.002845 -5.862210\n",
       "15   4585  android   17.0  224.0  0.075893 -2.578433\n",
       "16   4585      ios   24.0  148.0  0.162162 -1.819158"
      ]
     },
     "execution_count": 52,
     "metadata": {},
     "output_type": "execute_result"
    }
   ],
   "source": [
    "platform_df.head()"
   ]
  },
  {
   "cell_type": "code",
   "execution_count": 53,
   "metadata": {},
   "outputs": [
    {
     "data": {
      "text/plain": [
       "<matplotlib.axes._subplots.AxesSubplot at 0x7ff1fadc9be0>"
      ]
     },
     "execution_count": 53,
     "metadata": {},
     "output_type": "execute_result"
    },
    {
     "data": {
      "image/png": "[encoded data removed]",
      "text/plain": [
       "<Figure size 432x288 with 1 Axes>"
      ]
     },
     "metadata": {
      "needs_background": "light"
     },
     "output_type": "display_data"
    }
   ],
   "source": [
    "sns.boxplot(x='platform',y='ctr',data=platform_df)"
   ]
  },
  {
   "cell_type": "code",
   "execution_count": 54,
   "metadata": {},
   "outputs": [
    {
     "data": {
      "text/plain": [
       "F_onewayResult(statistic=0.12221144552264535, pvalue=0.884985296331977)"
      ]
     },
     "execution_count": 54,
     "metadata": {},
     "output_type": "execute_result"
    }
   ],
   "source": [
    "f_oneway(platform_df[platform_df.platform == 'web'].ctr_log,\n",
    "        platform_df[platform_df.platform == 'android'].ctr_log,\n",
    "        platform_df[platform_df.platform == 'ios'].ctr_log)"
   ]
  },
  {
   "cell_type": "code",
   "execution_count": null,
   "metadata": {},
   "outputs": [],
   "source": []
  }
 ],
 "metadata": {
  "kernelspec": {
   "display_name": "Python 3",
   "language": "python",
   "name": "python3"
  },
  "language_info": {
   "codemirror_mode": {
    "name": "ipython",
    "version": 3
   },
   "file_extension": ".py",
   "mimetype": "text/x-python",
   "name": "python",
   "nbconvert_exporter": "python",
   "pygments_lexer": "ipython3",
   "version": "3.7.3"
  }
 },
 "nbformat": 4,
 "nbformat_minor": 4
}
